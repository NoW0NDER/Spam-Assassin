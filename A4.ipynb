{
 "cells": [
  {
   "cell_type": "markdown",
   "metadata": {
    "id": "0AUwbFEaMiWi"
   },
   "source": [
    "# COMP7404 - Assignment 4\n",
    "\n",
    "## Part A: Conceptual Questions\n",
    "\n",
    "Solve the following questions by hand. You can write your answer on a seperate paper (submit as *.pdf) or type it below and submit together with Part B as a single *.ipynb file.\n"
   ]
  },
  {
   "cell_type": "markdown",
   "metadata": {
    "id": "Zkb0whVuM2Wc"
   },
   "source": [
    "### A1\n",
    "Consider a Perceptron with 2 inputs and 1 output. Let the weights of the Perceptron be $w_1 = 1$ and $w_2 = 1$ and let the bias be $w_0 = -1.5$. Calculate the output of the following inputs:(0, 0), (1, 0), (0, 1), (1, 1)"
   ]
  },
  {
   "cell_type": "markdown",
   "metadata": {
    "id": "MtGUikOfOYyI"
   },
   "source": [
    "*Your answer here*\n",
    "\n",
    "Answer of `A1`: \n",
    "+ (0,0)-> -1.5\n",
    "+ (1,0)-> -0.5\n",
    "+ (0,1)-> -0.5\n",
    "+ (1,1)-> 0.5\n"
   ]
  },
  {
   "cell_type": "markdown",
   "metadata": {
    "id": "BtvkvUDHOb9o"
   },
   "source": [
    "### A2\n",
    "Define a perceptron for the following logical functions: AND, NOT, NAND, NOR\n"
   ]
  },
  {
   "cell_type": "markdown",
   "metadata": {
    "id": "v3_Se0meOqxQ"
   },
   "source": [
    "*Your answer here*\n",
    "\n"
   ]
  },
  {
   "cell_type": "code",
   "execution_count": 15,
   "metadata": {},
   "outputs": [
    {
     "name": "stdout",
     "output_type": "stream",
     "text": [
      "-----AND-----\n",
      "Input: (0, 0)\n",
      "Output: 0\n",
      "**********\n",
      "Input: (1, 0)\n",
      "Output: 0\n",
      "**********\n",
      "Input: (0, 1)\n",
      "Output: 0\n",
      "**********\n",
      "Input: (1, 1)\n",
      "Output: 1\n",
      "**********\n",
      "-----NOT-----\n",
      "Input: 0\n",
      "Output: 1\n",
      "**********\n",
      "Input: 1\n",
      "Output: 0\n",
      "**********\n",
      "-----NAND-----\n",
      "Input: (0, 0)\n",
      "Output: 1\n",
      "**********\n",
      "Input: (1, 0)\n",
      "Output: 1\n",
      "**********\n",
      "Input: (0, 1)\n",
      "Output: 1\n",
      "**********\n",
      "Input: (1, 1)\n",
      "Output: 0\n",
      "**********\n",
      "-----NOR-----\n",
      "Input: (0, 0)\n",
      "Output: 1\n",
      "Input: (1, 0)\n",
      "Output: 0\n",
      "Input: (0, 1)\n",
      "Output: 0\n",
      "Input: (1, 1)\n",
      "Output: 0\n"
     ]
    }
   ],
   "source": [
    "def perceptron_and(x1, x2):\n",
    "    # AND: This perception has two inputs. w_1=1, w_2=1, bias=-1.5\n",
    "    w1, w2, theta = 1, 1, 1.5\n",
    "    tmp = x1 * w1 + x2 * w2\n",
    "    if tmp <= theta:\n",
    "        return 0\n",
    "    else:\n",
    "        return 1\n",
    "    \n",
    "def perceptron_not(x):\n",
    "    # NOT: This perception has one input. w=-1, bias=0.5\n",
    "    w, theta = -1, -0.5\n",
    "    tmp = x * w\n",
    "    if tmp <= theta:\n",
    "        return 0\n",
    "    else:\n",
    "        return 1\n",
    "    \n",
    "def perceptron_nand(x1, x2):\n",
    "    # NAND: This perception has two inputs. w_1=-1, w_2=-1, bias=1.5\n",
    "    w1, w2, theta = -1, -1, -1.5\n",
    "    tmp = x1 * w1 + x2 * w2\n",
    "    if tmp <= theta:\n",
    "        return 0\n",
    "    else:\n",
    "        return 1\n",
    "\n",
    "def perceptron_nor(x1, x2):\n",
    "    # NOR: Thie perception has two inputs. w_1=-1,w_2=-1, bias=1\n",
    "    w1, w2, theta = -1, -1, -1\n",
    "    tmp = x1 * w1 + x2 * w2\n",
    "    if tmp <= theta:\n",
    "        return 0\n",
    "    else:\n",
    "        return 1\n",
    "    \n",
    "# Test\n",
    "test_units = [(0, 0), (1, 0), (0, 1), (1, 1)]\n",
    "print(\"-----AND-----\")\n",
    "for test_unit in test_units:\n",
    "    print(f\"Input: {test_unit}\")\n",
    "    print(f\"Output: {perceptron_and(test_unit[0], test_unit[1])}\")\n",
    "    print(\"**********\")\n",
    "print(\"-----NOT-----\")\n",
    "for test_unit in [0, 1]:\n",
    "    print(f\"Input: {test_unit}\")\n",
    "    print(f\"Output: {perceptron_not(test_unit)}\")\n",
    "    print(\"**********\")\n",
    "    \n",
    "print(\"-----NAND-----\")\n",
    "for test_unit in test_units:\n",
    "    print(f\"Input: {test_unit}\")\n",
    "    print(f\"Output: {perceptron_nand(test_unit[0], test_unit[1])}\")\n",
    "    print(\"**********\")\n",
    "    \n",
    "print(\"-----NOR-----\")\n",
    "for test_unit in test_units:\n",
    "    print(f\"Input: {test_unit}\")\n",
    "    print(f\"Output: {perceptron_nor(test_unit[0], test_unit[1])}\")\n",
    "    "
   ]
  },
  {
   "cell_type": "markdown",
   "metadata": {
    "id": "oDwHHY3KSjEh"
   },
   "source": [
    "### A3\n",
    "The parity problem returns 1 if the number of inputs that are 1 is even, and 0 otherwise. Can a perceptron learn this problem for 3 inputs? \n"
   ]
  },
  {
   "cell_type": "markdown",
   "metadata": {},
   "source": [
    "*Your answer here*"
   ]
  },
  {
   "cell_type": "code",
   "execution_count": 16,
   "metadata": {},
   "outputs": [
    {
     "name": "stdout",
     "output_type": "stream",
     "text": [
      "-----Is the number of input 1 even?-----\n",
      "Input: (0, 0)\n",
      "Output: 1\n",
      "**********\n",
      "Input: (1, 0)\n",
      "Output: 0\n",
      "**********\n",
      "Input: (0, 1)\n",
      "Output: 0\n",
      "**********\n",
      "Input: (1, 1)\n",
      "Output: 1\n",
      "**********\n",
      "-----Is the number of input 1 even?-----\n",
      "Input: (0, 0, 0)\n",
      "Output: 1\n",
      "**********\n",
      "Input: (1, 0, 0)\n",
      "Output: 0\n",
      "**********\n",
      "Input: (0, 1, 0)\n",
      "Output: 0\n",
      "**********\n",
      "Input: (0, 0, 1)\n",
      "Output: 0\n",
      "**********\n",
      "Input: (1, 1, 0)\n",
      "Output: 1\n",
      "**********\n",
      "Input: (1, 0, 1)\n",
      "Output: 1\n",
      "**********\n",
      "Input: (0, 1, 1)\n",
      "Output: 1\n",
      "**********\n",
      "Input: (1, 1, 1)\n",
      "Output: 0\n",
      "**********\n"
     ]
    }
   ],
   "source": [
    "# For 2 inputs:\n",
    "# This question can be simplified as $(X_1 AND X_2) OR (X_1 NOR X_2)$.\n",
    "# This is equivalent to X_1 XNOR X_2.\n",
    "# So, this perception needs two layers.\n",
    "\n",
    "def perceptron_or(x1, x2):\n",
    "    # OR: This perception has two inputs. w_1=1, w_2=1, bias=-0.5\n",
    "    w1, w2, theta = 1, 1, 0.5\n",
    "    tmp = x1 * w1 + x2 * w2\n",
    "    if tmp <= theta:\n",
    "        return 0\n",
    "    else:\n",
    "        return 1\n",
    "\n",
    "def perceptron_xnor(x1,x2):\n",
    "    # This perception has two inputs. w_1=1, w_2=1, bias=-1.5\n",
    "    # This perception is X_1 AND X_2\n",
    "    and_result = perceptron_and(x1, x2)\n",
    "    # This perception has two inputs. w_1=-1, w_2=-1, bias=1\n",
    "    # This perception is X_1 NOR X_2\n",
    "    nor_result = perceptron_nor(x1, x2)\n",
    "    # This perception has two inputs. w_1=1, w_2=1, bias=-1.5\n",
    "    # This perception is (X_1 AND X_2) OR (X_1 NOR X_2)\n",
    "    return perceptron_or(and_result, nor_result)\n",
    "\n",
    "# Test\n",
    "print(\"-----Is the number of input 1 even?-----\")\n",
    "for test_unit in test_units:\n",
    "    print(f\"Input: {test_unit}\")\n",
    "    print(f\"Output: {perceptron_xnor(test_unit[0], test_unit[1])}\")\n",
    "    print(\"**********\")\n",
    "\n",
    "\n",
    "\n",
    "# For 3 inputs:\n",
    "# This is equivalent to (X_1 XNOR X_2 AND NOT X_3) OR (X_1 AND X_2 XNOR X_3) OR (X_1 AND X_3 XNOR X_3)\n",
    "\n",
    "def is_even_inputs(x1, x2, x3):\n",
    "    cache1 = perceptron_and(perceptron_xnor(x1, x2), perceptron_not(x3))\n",
    "    cache2 = perceptron_and(perceptron_xnor(x2, x3), perceptron_not(x1))\n",
    "    cache3 = perceptron_and(perceptron_xnor(x1, x3), perceptron_not(x2))\n",
    "    return perceptron_or(perceptron_or(cache1, cache2), cache3)\n",
    "test_case_3_inputs = [(0, 0, 0), (1, 0, 0), (0, 1, 0), (0, 0, 1), (1, 1, 0), (1, 0, 1), (0, 1, 1), (1, 1, 1)]\n",
    "print(\"-----Is the number of input 1 even?-----\")\n",
    "for test_unit in test_case_3_inputs:\n",
    "    print(f\"Input: {test_unit}\")\n",
    "    print(f\"Output: {is_even_inputs(test_unit[0], test_unit[1], test_unit[2])}\")\n",
    "    print(\"**********\")\n",
    "    \n",
    "\n"
   ]
  },
  {
   "cell_type": "markdown",
   "metadata": {
    "id": "SMGxkXbSSwo_"
   },
   "source": [
    "### A4\n",
    "Suppose that the following are a set of point in two classes:\n",
    "\n",
    "*   Class1: $(1, 1), (1, 2), (2, 1)$\n",
    "*   Class2: $(0, 0), (1, 0), (0, 1)$\n",
    "\n",
    "Plot them and find the optimal separating line. What are the support vectors, and what is the meaning?\n"
   ]
  },
  {
   "cell_type": "markdown",
   "metadata": {
    "id": "xjhx822xSjEj"
   },
   "source": [
    "*Your answer here*\n",
    "\n",
    "\n",
    "Support vectors are the data points that lie closest to the decision boundary (or hyperplane) in a Support Vector Machine (SVM) model. They are the data points that are most difficult to classify and have a direct bearing on the optimum location of the decision surface.\n"
   ]
  },
  {
   "cell_type": "code",
   "execution_count": 17,
   "metadata": {},
   "outputs": [
    {
     "data": {
      "image/png": "[encoded data removed]",
      "text/plain": [
       "<Figure size 640x480 with 1 Axes>"
      ]
     },
     "metadata": {},
     "output_type": "display_data"
    }
   ],
   "source": [
    "import matplotlib.pyplot as plt\n",
    "class1 = [(1,1), (1,2), (2,1)]\n",
    "class2 = [(0,0), (1,0), (0,1)]\n",
    "\n",
    "plt.scatter([x[0] for x in class1], [x[1] for x in class1], color='red')\n",
    "plt.scatter([x[0] for x in class2], [x[1] for x in class2], color='blue')\n",
    "plt.plot([0, 1.5], [1.5, 0], color='green')\n",
    "plt.xlabel(\"x1\")\n",
    "plt.ylabel(\"x2\")\n",
    "plt.show()\n",
    "\n",
    "\n"
   ]
  },
  {
   "cell_type": "markdown",
   "metadata": {
    "id": "kRke2doCTRWw"
   },
   "source": [
    "### A5\n",
    "Suppose that the probability of five events are $P(first) = 0.5, P(second) = P(third) = P(fourth) = P(fifth) = 0.125$. Calculate the entropy and write down in words what this means. \n"
   ]
  },
  {
   "cell_type": "markdown",
   "metadata": {
    "id": "1g_IC4sbTRdt"
   },
   "source": [
    "*Your answer here*\n",
    "In this case, the sum of probabilities are 1. \n",
    "\n",
    "$I_H(t)=-\\sum^c_{i=1}p(i|t)\\log_2{p(i|t)}$\n",
    "\n",
    "In this case, $Entropy=-(0.5\\times\\log_2 0.5 + 0.125\\times\\log_2 0.125 + 0.125\\times\\log_2 0.125 + 0.125\\times\\log_2 0.125)= 2$\n",
    "\n",
    "Entropy is a measure of uncertainty, the higher the entropy is, the more uncertainty there are."
   ]
  },
  {
   "cell_type": "code",
   "execution_count": 18,
   "metadata": {},
   "outputs": [
    {
     "name": "stdout",
     "output_type": "stream",
     "text": [
      "2.0\n"
     ]
    }
   ],
   "source": [
    "import math\n",
    "print(-(0.5*math.log2(0.5) + 4*0.125*math.log2(0.125)))"
   ]
  },
  {
   "cell_type": "markdown",
   "metadata": {
    "id": "4Ug_a4eETjq9"
   },
   "source": [
    "### A6\n",
    "Design a decision tree that computes the logical AND function. How does it compare to the Perceptron solution?\n",
    "\n",
    "\n",
    "\n"
   ]
  },
  {
   "cell_type": "code",
   "execution_count": 19,
   "metadata": {},
   "outputs": [
    {
     "name": "stdout",
     "output_type": "stream",
     "text": [
      "-----DICESION TREE AND-----\n",
      "Input: (0, 0)\n",
      "Output: False\n",
      "**********\n",
      "Input: (1, 0)\n",
      "Output: False\n",
      "**********\n",
      "Input: (0, 1)\n",
      "Output: False\n",
      "**********\n",
      "Input: (1, 1)\n",
      "Output: True\n",
      "**********\n"
     ]
    }
   ],
   "source": [
    "#         [Input1]\n",
    "#        /       \\\n",
    "#     True      False\n",
    "#     /           \\\n",
    "# [Input2]       Output=False\n",
    "#  /     \\\n",
    "# True  False\n",
    "#  |      |\n",
    "# Output=True  Output=False\n",
    "\n",
    "def decision_tree_and(input1, input2):\n",
    "    if input1:\n",
    "        if input2:\n",
    "            return True\n",
    "        else:\n",
    "            return False\n",
    "    else:\n",
    "        return False\n",
    "    \n",
    "    \n",
    "print(\"-----DICESION TREE AND-----\")\n",
    "for test_unit in test_units:\n",
    "    print(f\"Input: {test_unit}\")\n",
    "    print(f\"Output: {decision_tree_and(test_unit[0], test_unit[1])}\")\n",
    "    print(\"**********\")"
   ]
  },
  {
   "cell_type": "markdown",
   "metadata": {
    "id": "HONNlWWETj49"
   },
   "source": [
    "*Your answer here*\n",
    "\n",
    "The first decision is based on Input1. If Input1 is False, the output is False.\n",
    "If Input1 is True, the decision tree checks Input2. If Input2 is False, the output is False. If Input2 is True, the output is True.\n",
    "\n",
    "The decision tree is more interpretable than the perceptron. The perceptron, while less interpretable, can be trained using learning algorithms to adjust its weights and bias based on data, which is not the case with the decision tree. The perceptron is a linear classifier and can only model linearly separable functions. On the other hand, decision trees can model non-linear decision boundaries by adding more levels to the tree. Decision trees can easily handle multi-output problems, while traditional perceptrons are for binary classification problems. However, multi-layer perceptrons (neural networks) can handle multi-output problems."
   ]
  },
  {
   "cell_type": "markdown",
   "metadata": {
    "id": "q-aMRB0VTs-e"
   },
   "source": [
    "### A7\n",
    "Turn the following politically incorrect data into a decision tree to classify which attributes make a person attractive, and then extract the rules. Use the Gini Impurity.\n",
    "\n",
    "| Height  | Hair  | Eyes  | Attractive?  |\n",
    "|:-:|:-:|:-:|:-:|\n",
    "| Small  | Blonde  | Brown  | No  |\n",
    "| Tall  | Dark  | Brown  | No  |\n",
    "| Tall  | Blonde  | Blue  | Yes  |\n",
    "| Tall  | Dark  | Blue  | No  |\n",
    "| Small  | Dark  | Blue  | No  |\n",
    "| Tall  | Red  | Blue  | Yes  |\n",
    "| Tall  | Blonde  | Brown  | No  |\n",
    "| Small  | Blonde  | Blue  | Yes  |\n"
   ]
  },
  {
   "cell_type": "markdown",
   "metadata": {
    "id": "_Zi8zFnrUk6R"
   },
   "source": [
    "*Your answer here*\n",
    "\n",
    "In the first step, \n"
   ]
  },
  {
   "cell_type": "markdown",
   "metadata": {
    "id": "Knh_aBKPUmyl"
   },
   "source": [
    "### A8\n",
    "Suppose we collect data for a group of students in a postgraduate machine learning class with features $x_1$ = hours studies, $x_2$ = undergraduate GPA and label $y$ = receive an A. We fit a logistic regression and produce estimated weights as follows: $w_0 = -6$, $w_1 = 0.05$, $w_2 = 1$.\n",
    "\n",
    "1.  Estimate the probability that a student who studies for 40h and has an undergraduate GPA of 3.5 gets an A in the class\n",
    "2.  How many hours would the student in part 1. need to study to have a 50% chance of getting an A in the class?"
   ]
  },
  {
   "cell_type": "markdown",
   "metadata": {
    "id": "fjyKfm1KW-8b"
   },
   "source": [
    "*Your answer here*"
   ]
  },
  {
   "cell_type": "markdown",
   "metadata": {
    "id": "GXfA8H0PXBUW"
   },
   "source": [
    "### A9\n",
    "Suppose that we take a data set, divide it into equally-sized training and test sets, and then try out two different classification procedures. First we use logistic regression and get an error rate of 20% on the training data and 30% on the test data. Next we use 1-nearest neighbors (i.e., K=1) and get an average error rate (averaged over both test and training data sets) of 18%. Based on these results, which method should we prefer to use for classification of new observations? Why?"
   ]
  },
  {
   "cell_type": "markdown",
   "metadata": {
    "id": "TPLLkUruXH7s"
   },
   "source": [
    "*Your answer here*"
   ]
  },
  {
   "cell_type": "markdown",
   "metadata": {
    "id": "t9C3HzscGJRK"
   },
   "source": [
    "### A10\n",
    "\n",
    "Suppose the features in your training set have very different scales. Which algorithms discussed in class might suffer from this, and how? What can you do about it?\n"
   ]
  },
  {
   "cell_type": "markdown",
   "metadata": {
    "id": "vOldZMVsGMq4"
   },
   "source": [
    "*Your answer here*"
   ]
  },
  {
   "cell_type": "markdown",
   "metadata": {
    "id": "v6_-anGK53ee"
   },
   "source": [
    "### A11\n",
    "\n",
    "\n",
    "If your AdaBoost ensemble underfits the training data, which hyperparameters should you tweak and how?"
   ]
  },
  {
   "cell_type": "markdown",
   "metadata": {
    "id": "nAnz6reT6utg"
   },
   "source": [
    "*Your answer here*"
   ]
  },
  {
   "cell_type": "markdown",
   "metadata": {
    "id": "fsIKbwXx6f6m"
   },
   "source": [
    "### A12\n",
    "\n",
    "What is the benefit of out-of-bag evaluation?"
   ]
  },
  {
   "cell_type": "markdown",
   "metadata": {
    "id": "eotzI3zY6vaj"
   },
   "source": [
    "*Your answer here*"
   ]
  },
  {
   "cell_type": "markdown",
   "metadata": {
    "id": "t5YVqiMV6ml2"
   },
   "source": [
    "### A13\n",
    "\n",
    "What is the difference between hard and soft voting classifiers?"
   ]
  },
  {
   "cell_type": "markdown",
   "metadata": {
    "id": "GrAU8kT-6v5-"
   },
   "source": [
    "*Your answer here*"
   ]
  },
  {
   "cell_type": "markdown",
   "metadata": {
    "id": "uOViY3z7XoZR"
   },
   "source": [
    "## Part B: Applied Questions\n",
    "\n",
    "Solve the following questions by implementing solutions in code."
   ]
  },
  {
   "cell_type": "markdown",
   "metadata": {
    "id": "JkYvVa5pXuCQ"
   },
   "source": [
    "### B1\n",
    "Consider the following Perceptron code."
   ]
  },
  {
   "cell_type": "code",
   "execution_count": 1,
   "metadata": {
    "id": "_NRaSwsgZyfE"
   },
   "outputs": [],
   "source": [
    "import numpy as np\n",
    "\n",
    "class Perceptron(object):\n",
    "    \"\"\"Perceptron classifier.\n",
    "\n",
    "    Parameters\n",
    "    ------------\n",
    "    eta : float\n",
    "        Learning rate (between 0.0 and 1.0)\n",
    "    n_iter : int\n",
    "        Passes over the training dataset.\n",
    "\n",
    "    Attributes\n",
    "    -----------\n",
    "    w_ : 1d-array\n",
    "        Weights after fitting.\n",
    "    errors_ : list\n",
    "        Number of misclassifications in every epoch.\n",
    "\n",
    "    \"\"\"\n",
    "    def __init__(self, eta=0.01, n_iter=10):\n",
    "        self.eta = eta\n",
    "        self.n_iter = n_iter\n",
    "\n",
    "    def fit(self, X, y):\n",
    "        \"\"\"Fit training data.\n",
    "\n",
    "        Parameters\n",
    "        ----------\n",
    "        X : {array-like}, shape = [n_samples, n_features]\n",
    "            Training vectors, where n_samples is the number of samples and\n",
    "            n_features is the number of features.\n",
    "        y : array-like, shape = [n_samples]\n",
    "            Target values.\n",
    "\n",
    "        Returns\n",
    "        -------\n",
    "        self : object\n",
    "\n",
    "        \"\"\"\n",
    "        self.w_ = np.zeros(1 + X.shape[1])\n",
    "        self.errors_ = []\n",
    "\n",
    "        for _ in range(self.n_iter):\n",
    "            errors = 0\n",
    "            for xi, target in zip(X, y):\n",
    "                update = self.eta * (target - self.predict(xi))\n",
    "                self.w_[1:] += update * xi\n",
    "                self.w_[0] += update\n",
    "                errors += int(update != 0.0)\n",
    "            self.errors_.append(errors)\n",
    "        return self\n",
    "\n",
    "    def net_input(self, X):\n",
    "        \"\"\"Calculate net input\"\"\"\n",
    "        return np.dot(X, self.w_[1:]) + self.w_[0]\n",
    "\n",
    "    def predict(self, X):\n",
    "        \"\"\"Return class label after unit step\"\"\"\n",
    "        return np.where(self.net_input(X) >= 0.0, 1, -1)"
   ]
  },
  {
   "cell_type": "code",
   "execution_count": 2,
   "metadata": {
    "colab": {
     "base_uri": "https://localhost:8080/",
     "height": 204
    },
    "executionInfo": {
     "elapsed": 431,
     "status": "ok",
     "timestamp": 1668645067046,
     "user": {
      "displayName": "Dirk Schnieders",
      "userId": "16819858730100554095"
     },
     "user_tz": -480
    },
    "id": "PRJvrJB3aAYP",
    "outputId": "af1d6423-f6e9-470a-a48c-8b76f09cf4e5"
   },
   "outputs": [
    {
     "data": {
      "text/html": [
       "<div>\n",
       "<style scoped>\n",
       "    .dataframe tbody tr th:only-of-type {\n",
       "        vertical-align: middle;\n",
       "    }\n",
       "\n",
       "    .dataframe tbody tr th {\n",
       "        vertical-align: top;\n",
       "    }\n",
       "\n",
       "    .dataframe thead th {\n",
       "        text-align: right;\n",
       "    }\n",
       "</style>\n",
       "<table border=\"1\" class=\"dataframe\">\n",
       "  <thead>\n",
       "    <tr style=\"text-align: right;\">\n",
       "      <th></th>\n",
       "      <th>0</th>\n",
       "      <th>1</th>\n",
       "      <th>2</th>\n",
       "      <th>3</th>\n",
       "      <th>4</th>\n",
       "    </tr>\n",
       "  </thead>\n",
       "  <tbody>\n",
       "    <tr>\n",
       "      <th>145</th>\n",
       "      <td>6.7</td>\n",
       "      <td>3.0</td>\n",
       "      <td>5.2</td>\n",
       "      <td>2.3</td>\n",
       "      <td>Iris-virginica</td>\n",
       "    </tr>\n",
       "    <tr>\n",
       "      <th>146</th>\n",
       "      <td>6.3</td>\n",
       "      <td>2.5</td>\n",
       "      <td>5.0</td>\n",
       "      <td>1.9</td>\n",
       "      <td>Iris-virginica</td>\n",
       "    </tr>\n",
       "    <tr>\n",
       "      <th>147</th>\n",
       "      <td>6.5</td>\n",
       "      <td>3.0</td>\n",
       "      <td>5.2</td>\n",
       "      <td>2.0</td>\n",
       "      <td>Iris-virginica</td>\n",
       "    </tr>\n",
       "    <tr>\n",
       "      <th>148</th>\n",
       "      <td>6.2</td>\n",
       "      <td>3.4</td>\n",
       "      <td>5.4</td>\n",
       "      <td>2.3</td>\n",
       "      <td>Iris-virginica</td>\n",
       "    </tr>\n",
       "    <tr>\n",
       "      <th>149</th>\n",
       "      <td>5.9</td>\n",
       "      <td>3.0</td>\n",
       "      <td>5.1</td>\n",
       "      <td>1.8</td>\n",
       "      <td>Iris-virginica</td>\n",
       "    </tr>\n",
       "  </tbody>\n",
       "</table>\n",
       "</div>"
      ],
      "text/plain": [
       "       0    1    2    3               4\n",
       "145  6.7  3.0  5.2  2.3  Iris-virginica\n",
       "146  6.3  2.5  5.0  1.9  Iris-virginica\n",
       "147  6.5  3.0  5.2  2.0  Iris-virginica\n",
       "148  6.2  3.4  5.4  2.3  Iris-virginica\n",
       "149  5.9  3.0  5.1  1.8  Iris-virginica"
      ]
     },
     "execution_count": 2,
     "metadata": {},
     "output_type": "execute_result"
    }
   ],
   "source": [
    "import pandas as pd\n",
    "\n",
    "data_src = 'https://archive.ics.uci.edu/ml/machine-learning-databases/iris/iris.data'\n",
    "\n",
    "df = pd.read_csv(data_src, header=None)\n",
    "\n",
    "df.tail()"
   ]
  },
  {
   "cell_type": "code",
   "execution_count": 3,
   "metadata": {
    "colab": {
     "base_uri": "https://localhost:8080/",
     "height": 296
    },
    "executionInfo": {
     "elapsed": 873,
     "status": "ok",
     "timestamp": 1668645067915,
     "user": {
      "displayName": "Dirk Schnieders",
      "userId": "16819858730100554095"
     },
     "user_tz": -480
    },
    "id": "L_AlboxFaByl",
    "outputId": "780bceaf-9dcf-474e-eda0-b6635df01ac2"
   },
   "outputs": [
    {
     "data": {
      "image/png": "[encoded data removed]",
      "text/plain": [
       "<Figure size 640x480 with 1 Axes>"
      ]
     },
     "metadata": {
      "image/png": {
       "height": 470,
       "width": 629
      }
     },
     "output_type": "display_data"
    }
   ],
   "source": [
    "%matplotlib inline\n",
    "import matplotlib.pyplot as plt\n",
    "%config InlineBackend.figure_format='retina'\n",
    "import numpy as np\n",
    "\n",
    "# select setosa and versicolor\n",
    "y = df.iloc[0:100, 4].values\n",
    "y = np.where(y == 'Iris-setosa', -1, 1)\n",
    "\n",
    "# extract sepal length and petal length\n",
    "X = df.iloc[0:100, [0, 2]].values\n",
    "\n",
    "# plot data\n",
    "plt.scatter(X[:50, 0], X[:50, 1],\n",
    "            color='red', marker='o', label='setosa')\n",
    "plt.scatter(X[50:100, 0], X[50:100, 1],\n",
    "            color='blue', marker='x', label='versicolor')\n",
    "\n",
    "plt.xlabel('sepal length [cm]')\n",
    "plt.ylabel('petal length [cm]')\n",
    "plt.legend(loc='upper left')\n",
    "\n",
    "plt.tight_layout()\n",
    "plt.show()"
   ]
  },
  {
   "cell_type": "code",
   "execution_count": 4,
   "metadata": {
    "id": "skqFfQamaDI3"
   },
   "outputs": [],
   "source": [
    "ppn = Perceptron(eta=0.1, n_iter=10)\n",
    "ppn = ppn.fit(X, y)"
   ]
  },
  {
   "cell_type": "code",
   "execution_count": 5,
   "metadata": {
    "id": "ydG8Th6LaFEh"
   },
   "outputs": [],
   "source": [
    "from matplotlib.colors import ListedColormap\n",
    "\n",
    "from matplotlib.colors import ListedColormap\n",
    "def plot_decision_regions(X, y, classifier, resolution=0.01):\n",
    "    markers = ('s', 'x', 'o', '^', 'v')\n",
    "    colors = ('red', 'blue', 'lightgreen', 'gray', 'cyan')\n",
    "    cmap = ListedColormap(colors[:len(np.unique(y))])\n",
    "    x1_min, x1_max = X[:, 0].min() - 1, X[:, 0].max() + 1\n",
    "    x2_min, x2_max = X[:, 1].min() - 1, X[:, 1].max() + 1\n",
    "    xx1, xx2 = np.meshgrid(np.arange(x1_min, x1_max, resolution),\n",
    "                           np.arange(x2_min, x2_max, resolution))\n",
    "    Z = classifier.predict(np.array([xx1.ravel(), xx2.ravel()]).T)\n",
    "    Z = Z.reshape(xx1.shape)\n",
    "    plt.contourf(xx1, xx2, Z, alpha=0.3, cmap=cmap)\n",
    "    plt.xlim(xx1.min(), xx1.max())\n",
    "    plt.ylim(xx2.min(), xx2.max())\n",
    "    for idx, cl in enumerate(np.unique(y)):\n",
    "        plt.scatter(x=X[y == cl, 0], \n",
    "                    y=X[y == cl, 1],\n",
    "                    alpha=0.8, \n",
    "                    c=colors[idx],\n",
    "                    marker=markers[idx], \n",
    "                    label=cl, \n",
    "                    edgecolor='black')"
   ]
  },
  {
   "cell_type": "markdown",
   "metadata": {
    "id": "8wEkoJNTaHVw"
   },
   "source": [
    "As shown in function plot_decision_regions, the decision regions can be visualized by dense sampling via meshgrid. However, if the grid resolution is not enough, as artificially set below, the boundary will appear inaccurate.\n",
    "\n",
    "Implement function plot_decision_boundary below to analytically compute and plot the decision boundary."
   ]
  },
  {
   "cell_type": "code",
   "execution_count": 6,
   "metadata": {
    "id": "ETZTKgflaJ-P"
   },
   "outputs": [],
   "source": [
    "def plot_decision_boundary(X, y, classifier):    \n",
    "    \n",
    "    # replace the two lines below with your code\n",
    "    # x1_interval = [X[:, 0].min() - 1, X[:, 0].max() + 1]\n",
    "    x1_interval = [0, X[:, 0].max()+2]\n",
    "    # x2_interval = [X[:, 1].min() - 1, X[:, 1].max() + 1]\n",
    "    a = -classifier.w_[1]/classifier.w_[2]\n",
    "    b = -classifier.w_[0]/classifier.w_[2]\n",
    "    x2_interval = [a*x1_interval[0] + b, a*x1_interval[1] + b]\n",
    "    plt.plot(x1_interval, x2_interval, color='green', linewidth=4, label='boundary')"
   ]
  },
  {
   "cell_type": "code",
   "execution_count": 7,
   "metadata": {
    "colab": {
     "base_uri": "https://localhost:8080/",
     "height": 296
    },
    "executionInfo": {
     "elapsed": 13,
     "status": "ok",
     "timestamp": 1668645068589,
     "user": {
      "displayName": "Dirk Schnieders",
      "userId": "16819858730100554095"
     },
     "user_tz": -480
    },
    "id": "3MpX2DdFaLbJ",
    "outputId": "2c319a65-4040-4c5d-e0af-ac38da658955"
   },
   "outputs": [
    {
     "name": "stderr",
     "output_type": "stream",
     "text": [
      "/var/folders/z_/s3bb33wx12q27g0tjw6jggkr0000gn/T/ipykernel_6741/449223450.py:18: UserWarning: You passed a edgecolor/edgecolors ('black') for an unfilled marker ('x').  Matplotlib is ignoring the edgecolor in favor of the facecolor.  This behavior may change in the future.\n",
      "  plt.scatter(x=X[y == cl, 0],\n"
     ]
    },
    {
     "data": {
      "image/png": "[encoded data removed]",
      "text/plain": [
       "<Figure size 640x480 with 1 Axes>"
      ]
     },
     "metadata": {
      "image/png": {
       "height": 470,
       "width": 629
      }
     },
     "output_type": "display_data"
    }
   ],
   "source": [
    "low_res = 0.1 # intentional for this exercise\n",
    "plot_decision_regions(X, y, classifier=ppn, resolution=low_res)\n",
    "plot_decision_boundary(X, y, classifier=ppn)\n",
    "plt.xlabel('sepal length [cm]')\n",
    "plt.ylabel('petal length [cm]')\n",
    "plt.legend(loc='upper left')\n",
    "plt.tight_layout()\n",
    "plt.show()"
   ]
  },
  {
   "cell_type": "markdown",
   "metadata": {
    "id": "s9RyhbgDaXSh"
   },
   "source": [
    "### B2\n",
    "\n",
    "In class we applied different scikit-learn classifers for the Iris data set.\n",
    "\n",
    "In this question, we will apply the same set of classifiers over a different data set: hand-written digits.\n",
    "Please write down the code for different classifiers, choose their hyper-parameters, and compare their performance via the accuracy score as in the Iris dataset.\n",
    "Which classifier(s) perform(s) the best and worst, and why?\n",
    "\n",
    "The classifiers include:\n",
    "* perceptron\n",
    "* logistic regression\n",
    "* SVM\n",
    "* decision tree\n",
    "* random forest\n",
    "* KNN\n",
    "\n",
    "The dataset is available as part of scikit learn, as follows."
   ]
  },
  {
   "cell_type": "code",
   "execution_count": 8,
   "metadata": {
    "colab": {
     "base_uri": "https://localhost:8080/"
    },
    "executionInfo": {
     "elapsed": 11,
     "status": "ok",
     "timestamp": 1668645068589,
     "user": {
      "displayName": "Dirk Schnieders",
      "userId": "16819858730100554095"
     },
     "user_tz": -480
    },
    "id": "G34BD-WdaneG",
    "outputId": "70d3c14d-f033-4ca6-e697-feb00ae3ea5d"
   },
   "outputs": [
    {
     "name": "stdout",
     "output_type": "stream",
     "text": [
      "(1797, 64)\n",
      "(1797,)\n"
     ]
    }
   ],
   "source": [
    "from sklearn.datasets import load_digits\n",
    "digits = load_digits()\n",
    "\n",
    "X = digits.data # training data\n",
    "y = digits.target # training label\n",
    "\n",
    "print(X.shape)\n",
    "print(y.shape)"
   ]
  },
  {
   "cell_type": "code",
   "execution_count": 9,
   "metadata": {
    "colab": {
     "base_uri": "https://localhost:8080/",
     "height": 602
    },
    "executionInfo": {
     "elapsed": 1567,
     "status": "ok",
     "timestamp": 1668645070150,
     "user": {
      "displayName": "Dirk Schnieders",
      "userId": "16819858730100554095"
     },
     "user_tz": -480
    },
    "id": "fGu93j6CaqLq",
    "outputId": "66d86b56-3039-43b2-80a5-1c114b1029ce"
   },
   "outputs": [
    {
     "data": {
      "image/png": "[encoded data removed]",
      "text/plain": [
       "<Figure size 960x720 with 20 Axes>"
      ]
     },
     "metadata": {
      "image/png": {
       "height": 705,
       "width": 894
      }
     },
     "output_type": "display_data"
    }
   ],
   "source": [
    "import matplotlib.pyplot as plt\n",
    "import pylab as pl\n",
    "import matplotlib as mpl\n",
    "mpl.rcParams['figure.dpi'] = 150\n",
    "num_rows = 4\n",
    "num_cols = 5\n",
    "fig, ax = plt.subplots(nrows=num_rows, ncols=num_cols, sharex=True, sharey=True)\n",
    "ax = ax.flatten()\n",
    "for index in range(num_rows*num_cols):\n",
    "    img = digits.images[index]\n",
    "    label = digits.target[index]\n",
    "    ax[index].imshow(img, cmap='Greys', interpolation='nearest')\n",
    "    ax[index].set_title('digit ' + str(label))\n",
    "ax[0].set_xticks([])\n",
    "ax[0].set_yticks([])\n",
    "plt.tight_layout()\n",
    "plt.show()"
   ]
  },
  {
   "cell_type": "markdown",
   "metadata": {
    "id": "Vrz6Lwxja7XB"
   },
   "source": [
    "Date Preprocessing\n",
    "\n",
    "Hint: Divide training and test data set and apply other techinques we have learned if needed."
   ]
  },
  {
   "cell_type": "code",
   "execution_count": 10,
   "metadata": {
    "id": "OJW5hPNkbAT4"
   },
   "outputs": [],
   "source": [
    "#Your code here\n",
    "from sklearn.model_selection import train_test_split\n",
    "split_rate = [0.6, 0.2, 0.2]\n",
    "# train_size = int(digits.data.shape[0]*split_rate[0])\n",
    "# val_size = int(digits.data.shape[0]*split_rate[1])\n",
    "# X_train = digits.data[:train_size]\n",
    "# y_train = digits.target[:train_size]\n",
    "# X_val = digits.data[train_size:train_size+val_size]\n",
    "# y_val = digits.target[train_size:train_size+val_size]\n",
    "# X_test = digits.data[train_size+val_size:]\n",
    "# y_test = digits.target[train_size+val_size:]\n",
    "\n",
    "\n",
    "X_train, X_test, y_train, y_test = train_test_split(digits.data, digits.target, test_size=0.3, random_state=1, stratify=y)"
   ]
  },
  {
   "cell_type": "markdown",
   "metadata": {
    "id": "GX6bWDjCLoIr"
   },
   "source": [
    "Classifier #1 Perceptron"
   ]
  },
  {
   "cell_type": "code",
   "execution_count": 11,
   "metadata": {
    "id": "lYkmrjmrLoIr"
   },
   "outputs": [
    {
     "name": "stdout",
     "output_type": "stream",
     "text": [
      "Train accuracy:  0.9554494828957836\n",
      "Test accuracy:  0.9203703703703704\n"
     ]
    }
   ],
   "source": [
    "#Your code, including traing and testing, to observe the accuracies.\n",
    "from sklearn.metrics import accuracy_score\n",
    "class DigitPerceptron():\n",
    "    def __init__(self, class_num):\n",
    "        self.perceptrons = [Perceptron(eta=0.1, n_iter=20) for _ in range(class_num)]\n",
    "    def fit(self, X, y):\n",
    "        for idx, perceptron in enumerate(self.perceptrons):\n",
    "            y_ = np.where(y == idx, 1, -1)\n",
    "            perceptron.fit(X, y_)\n",
    "    def predict(self, X):\n",
    "        result = []\n",
    "        for perceptron in self.perceptrons:\n",
    "            result.append(perceptron.net_input(X))\n",
    "        return np.argmax(result, axis=0)\n",
    "    def score(self, X, y):\n",
    "        return np.mean(self.predict(X) == y)\n",
    "    \n",
    "dp = DigitPerceptron(10)\n",
    "dp.fit(X_train, y_train)\n",
    "print(\"Train accuracy: \", dp.score(X_train, y_train))\n",
    "# print(\"Validation accuracy: \", dp.score(X_val, y_val))\n",
    "print(\"Test accuracy: \", dp.score(X_test, y_test))\n",
    "\n",
    "        \n",
    "        \n",
    "    \n"
   ]
  },
  {
   "cell_type": "code",
   "execution_count": 12,
   "metadata": {},
   "outputs": [
    {
     "data": {
      "text/plain": [
       "(1257, 64)"
      ]
     },
     "execution_count": 12,
     "metadata": {},
     "output_type": "execute_result"
    }
   ],
   "source": [
    "X_train.shape"
   ]
  },
  {
   "cell_type": "code",
   "execution_count": 13,
   "metadata": {},
   "outputs": [
    {
     "data": {
      "text/plain": [
       "array([14, 32])"
      ]
     },
     "execution_count": 13,
     "metadata": {},
     "output_type": "execute_result"
    }
   ],
   "source": [
    "a = np.array([[1,2,3],[4,5,6]])\n",
    "b = np.array([1,2,3])\n",
    "np.dot(a,b)"
   ]
  },
  {
   "cell_type": "code",
   "execution_count": 17,
   "metadata": {},
   "outputs": [
    {
     "data": {
      "text/plain": [
       "array([0.73105858, 0.88079708])"
      ]
     },
     "execution_count": 17,
     "metadata": {},
     "output_type": "execute_result"
    }
   ],
   "source": [
    "1. / (1. + np.exp(-np.clip([1,2], -250, 250)))"
   ]
  },
  {
   "cell_type": "markdown",
   "metadata": {
    "id": "yfoFni6tLoIv"
   },
   "source": [
    "Classifier #2 Logistic Regression"
   ]
  },
  {
   "cell_type": "code",
   "execution_count": 29,
   "metadata": {
    "id": "eggDI2swLoIv"
   },
   "outputs": [
    {
     "name": "stdout",
     "output_type": "stream",
     "text": [
      "Train accuracy:  0.8782816229116945\n",
      "Test accuracy:  0.8907407407407407\n"
     ]
    }
   ],
   "source": [
    "#Your code, including traing and testing, to observe the accuracies.\n",
    "import math\n",
    "def sigmoid(x):\n",
    "    return 1/(1+math.exp(-x))\n",
    "class LogisticRegression():\n",
    "    def __init__(self, eta=0.01, n_iter=20) -> None:\n",
    "        self.eta = eta\n",
    "        self.n_iter = n_iter\n",
    "    def fit(self, X, y):\n",
    "        rgen = np.random.RandomState(42)\n",
    "        self.w_ = rgen.normal(loc=0.0, scale=0.01, size=1 + X.shape[1])\n",
    "        self.cost = []\n",
    "        for i in range(self.n_iter):\n",
    "            o = self.sigmoid(self.net_input(X))\n",
    "            errors = (y - o)\n",
    "            self.w_[1:] += self.eta * X.T.dot(errors)\n",
    "            self.w_[0] += self.eta * errors.sum()\n",
    "            cost = -y.dot(np.log(o)) - ((1 - y).dot(np.log(1 - o)))\n",
    "            self.cost.append(cost)\n",
    "        return self\n",
    "    def sigmoid(self, o):\n",
    "        # return 1./(1.+np.exp(o))\n",
    "        return 1. / (1. + np.exp(-np.clip(o, -250, 250)))\n",
    "        \n",
    "    def net_input(self, X):\n",
    "        return np.dot(X,self.w_[1:])+self.w_[0]\n",
    "    \n",
    "    def predict(self, X):\n",
    "        return np.where(np.dot(X,self.w_)>=0,1,0)\n",
    "\n",
    "\n",
    "class DigitLogisticRegression():\n",
    "    def __init__(self, class_num):\n",
    "        self.regressions = [LogisticRegression() for i in range(class_num)]\n",
    "    def fit(self,X,y):\n",
    "        for idx, regression in enumerate(self.regressions):\n",
    "            y_ = np.where(y==idx,1,-1)\n",
    "            regression.fit(X,y_)\n",
    "    def predict(self, X):\n",
    "        result = []\n",
    "        for regression in self.regressions:\n",
    "            result.append(regression.net_input(X))\n",
    "        return np.argmax(result, axis=0)\n",
    "    def score(self, X, y):\n",
    "        return np.mean(self.predict(X) == y)\n",
    "\n",
    "dlr = DigitLogisticRegression(10)\n",
    "dlr.fit(X_train,y_train)\n",
    "\n",
    "print(\"Train accuracy: \", dlr.score(X_train,y_train))\n",
    "\n",
    "print(\"Test accuracy: \", dlr.score(X_test, y_test))\n",
    "        \n",
    "        \n"
   ]
  },
  {
   "cell_type": "code",
   "execution_count": 24,
   "metadata": {},
   "outputs": [
    {
     "data": {
      "text/html": [
       "<style>#sk-container-id-1 {color: black;}#sk-container-id-1 pre{padding: 0;}#sk-container-id-1 div.sk-toggleable {background-color: white;}#sk-container-id-1 label.sk-toggleable__label {cursor: pointer;display: block;width: 100%;margin-bottom: 0;padding: 0.3em;box-sizing: border-box;text-align: center;}#sk-container-id-1 label.sk-toggleable__label-arrow:before {content: \"▸\";float: left;margin-right: 0.25em;color: #696969;}#sk-container-id-1 label.sk-toggleable__label-arrow:hover:before {color: black;}#sk-container-id-1 div.sk-estimator:hover label.sk-toggleable__label-arrow:before {color: black;}#sk-container-id-1 div.sk-toggleable__content {max-height: 0;max-width: 0;overflow: hidden;text-align: left;background-color: #f0f8ff;}#sk-container-id-1 div.sk-toggleable__content pre {margin: 0.2em;color: black;border-radius: 0.25em;background-color: #f0f8ff;}#sk-container-id-1 input.sk-toggleable__control:checked~div.sk-toggleable__content {max-height: 200px;max-width: 100%;overflow: auto;}#sk-container-id-1 input.sk-toggleable__control:checked~label.sk-toggleable__label-arrow:before {content: \"▾\";}#sk-container-id-1 div.sk-estimator input.sk-toggleable__control:checked~label.sk-toggleable__label {background-color: #d4ebff;}#sk-container-id-1 div.sk-label input.sk-toggleable__control:checked~label.sk-toggleable__label {background-color: #d4ebff;}#sk-container-id-1 input.sk-hidden--visually {border: 0;clip: rect(1px 1px 1px 1px);clip: rect(1px, 1px, 1px, 1px);height: 1px;margin: -1px;overflow: hidden;padding: 0;position: absolute;width: 1px;}#sk-container-id-1 div.sk-estimator {font-family: monospace;background-color: #f0f8ff;border: 1px dotted black;border-radius: 0.25em;box-sizing: border-box;margin-bottom: 0.5em;}#sk-container-id-1 div.sk-estimator:hover {background-color: #d4ebff;}#sk-container-id-1 div.sk-parallel-item::after {content: \"\";width: 100%;border-bottom: 1px solid gray;flex-grow: 1;}#sk-container-id-1 div.sk-label:hover label.sk-toggleable__label {background-color: #d4ebff;}#sk-container-id-1 div.sk-serial::before {content: \"\";position: absolute;border-left: 1px solid gray;box-sizing: border-box;top: 0;bottom: 0;left: 50%;z-index: 0;}#sk-container-id-1 div.sk-serial {display: flex;flex-direction: column;align-items: center;background-color: white;padding-right: 0.2em;padding-left: 0.2em;position: relative;}#sk-container-id-1 div.sk-item {position: relative;z-index: 1;}#sk-container-id-1 div.sk-parallel {display: flex;align-items: stretch;justify-content: center;background-color: white;position: relative;}#sk-container-id-1 div.sk-item::before, #sk-container-id-1 div.sk-parallel-item::before {content: \"\";position: absolute;border-left: 1px solid gray;box-sizing: border-box;top: 0;bottom: 0;left: 50%;z-index: -1;}#sk-container-id-1 div.sk-parallel-item {display: flex;flex-direction: column;z-index: 1;position: relative;background-color: white;}#sk-container-id-1 div.sk-parallel-item:first-child::after {align-self: flex-end;width: 50%;}#sk-container-id-1 div.sk-parallel-item:last-child::after {align-self: flex-start;width: 50%;}#sk-container-id-1 div.sk-parallel-item:only-child::after {width: 0;}#sk-container-id-1 div.sk-dashed-wrapped {border: 1px dashed gray;margin: 0 0.4em 0.5em 0.4em;box-sizing: border-box;padding-bottom: 0.4em;background-color: white;}#sk-container-id-1 div.sk-label label {font-family: monospace;font-weight: bold;display: inline-block;line-height: 1.2em;}#sk-container-id-1 div.sk-label-container {text-align: center;}#sk-container-id-1 div.sk-container {/* jupyter's `normalize.less` sets `[hidden] { display: none; }` but bootstrap.min.css set `[hidden] { display: none !important; }` so we also need the `!important` here to be able to override the default hidden behavior on the sphinx rendered scikit-learn.org. See: https://github.com/scikit-learn/scikit-learn/issues/21755 */display: inline-block !important;position: relative;}#sk-container-id-1 div.sk-text-repr-fallback {display: none;}</style><div id=\"sk-container-id-1\" class=\"sk-top-container\"><div class=\"sk-text-repr-fallback\"><pre>LogisticRegression(C=100.0, multi_class=&#x27;ovr&#x27;, solver=&#x27;liblinear&#x27;)</pre><b>In a Jupyter environment, please rerun this cell to show the HTML representation or trust the notebook. <br />On GitHub, the HTML representation is unable to render, please try loading this page with nbviewer.org.</b></div><div class=\"sk-container\" hidden><div class=\"sk-item\"><div class=\"sk-estimator sk-toggleable\"><input class=\"sk-toggleable__control sk-hidden--visually\" id=\"sk-estimator-id-1\" type=\"checkbox\" checked><label for=\"sk-estimator-id-1\" class=\"sk-toggleable__label sk-toggleable__label-arrow\">LogisticRegression</label><div class=\"sk-toggleable__content\"><pre>LogisticRegression(C=100.0, multi_class=&#x27;ovr&#x27;, solver=&#x27;liblinear&#x27;)</pre></div></div></div></div></div>"
      ],
      "text/plain": [
       "LogisticRegression(C=100.0, multi_class='ovr', solver='liblinear')"
      ]
     },
     "execution_count": 24,
     "metadata": {},
     "output_type": "execute_result"
    }
   ],
   "source": [
    "from sklearn.preprocessing import StandardScaler\n",
    "sc = StandardScaler()\n",
    "sc.fit(X_train)\n",
    "X_train_std = sc.transform(X_train)\n",
    "X_test_std = sc.transform(X_test)\n",
    "X_combined_std = np.vstack((X_train_std, X_test_std))\n",
    "y_combined = np.hstack((y_train, y_test))\n",
    "from sklearn.linear_model import LogisticRegression\n",
    "lr = LogisticRegression(C=100.0, solver='liblinear', multi_class='ovr')\n",
    "lr.fit(X_train_std, y_train)\n",
    "\n"
   ]
  },
  {
   "cell_type": "code",
   "execution_count": 27,
   "metadata": {},
   "outputs": [
    {
     "data": {
      "text/plain": [
       "0.9555555555555556"
      ]
     },
     "execution_count": 27,
     "metadata": {},
     "output_type": "execute_result"
    }
   ],
   "source": [
    "from sklearn.metrics import accuracy_score\n",
    "accuracy_score(lr.predict(X_train_std),y_train)\n",
    "accuracy_score(lr.predict(X_test_std),y_test)\n",
    "\n"
   ]
  },
  {
   "cell_type": "markdown",
   "metadata": {
    "id": "4hlwLV3RLoIz"
   },
   "source": [
    "Classifier #3 SVM"
   ]
  },
  {
   "cell_type": "code",
   "execution_count": 32,
   "metadata": {
    "id": "jWracruvLoI0"
   },
   "outputs": [
    {
     "name": "stdout",
     "output_type": "stream",
     "text": [
      "0.9960222752585521\n",
      "0.9833333333333333\n"
     ]
    }
   ],
   "source": [
    "#Your code, including traing and testing, to observe the accuracies.\n",
    "from sklearn.svm import SVC\n",
    "scv = SVC()\n",
    "scv.fit(X_train,y_train)\n",
    "print(accuracy_score(scv.predict(X_train),y_train))\n",
    "print(accuracy_score(scv.predict(X_test),y_test))    \n"
   ]
  },
  {
   "cell_type": "markdown",
   "metadata": {
    "id": "OjozjBQ8LoI4"
   },
   "source": [
    "Classifier #4 Decision Tree"
   ]
  },
  {
   "cell_type": "code",
   "execution_count": 33,
   "metadata": {
    "id": "inw3NjgQLoI4"
   },
   "outputs": [
    {
     "name": "stdout",
     "output_type": "stream",
     "text": [
      "1.0\n",
      "0.8518518518518519\n"
     ]
    }
   ],
   "source": [
    "#Your code, including traing and testing, to observe the accuracies.\n",
    "from sklearn.tree import DecisionTreeClassifier\n",
    "dtc = DecisionTreeClassifier()\n",
    "dtc.fit(X_train,y_train)\n",
    "print(accuracy_score(dtc.predict(X_train),y_train))\n",
    "print(accuracy_score(dtc.predict(X_test),y_test))    "
   ]
  },
  {
   "cell_type": "markdown",
   "metadata": {
    "id": "hIVcFJhELoI8"
   },
   "source": [
    "Classifer #5 Random Forest"
   ]
  },
  {
   "cell_type": "code",
   "execution_count": 35,
   "metadata": {
    "id": "ZsFgIgVKLoI8"
   },
   "outputs": [
    {
     "name": "stdout",
     "output_type": "stream",
     "text": [
      "1.0\n",
      "0.9685185185185186\n"
     ]
    }
   ],
   "source": [
    "#Your code, including traing and testing, to observe the accuracies.\n",
    "from sklearn.ensemble import RandomForestClassifier\n",
    "rfc = RandomForestClassifier()\n",
    "rfc.fit(X_train,y_train)\n",
    "print(accuracy_score(rfc.predict(X_train),y_train))\n",
    "print(accuracy_score(rfc.predict(X_test),y_test))  "
   ]
  },
  {
   "cell_type": "markdown",
   "metadata": {
    "id": "OQWwURjyLoI_"
   },
   "source": [
    "Classifier #6 KNN"
   ]
  },
  {
   "cell_type": "code",
   "execution_count": 36,
   "metadata": {
    "id": "afe9Rn3FLoJA"
   },
   "outputs": [
    {
     "name": "stdout",
     "output_type": "stream",
     "text": [
      "0.9912490055688147\n",
      "0.9833333333333333\n"
     ]
    }
   ],
   "source": [
    "#Your code, including traing and testing, to observe the accuracies.\n",
    "from sklearn.neighbors import KNeighborsClassifier\n",
    "knc = KNeighborsClassifier()\n",
    "knc.fit(X_train,y_train)\n",
    "print(accuracy_score(knc.predict(X_train),y_train))\n",
    "print(accuracy_score(knc.predict(X_test),y_test))  \n"
   ]
  },
  {
   "cell_type": "markdown",
   "metadata": {
    "id": "gsIa9BsPGr2k"
   },
   "source": [
    "### B3\n",
    "Build a spam classifier:\n",
    "\n",
    "\n",
    "\n",
    "*   Download examples of spam and ham from Apache SpamAssassin’s public datasets.\n",
    "*   Unzip the datasets and familiarize yourself with the data format.\n",
    "*   Split the datasets into a training set and a test set.\n",
    "*   Write a data preparation pipeline to convert each email into a feature vector. Your preparation pipeline should transform an email into a (sparse) vector that indicates the presence or absence of each possible word. For example, if all emails only ever contain four words, “Hello,” “how,” “are,” “you,” then the email “Hello you Hello Hello you” would be converted into a vector [1, 0, 0, 1] (meaning [“Hello” is present, “how” is absent, “are” is absent, “you” is present]), or [3, 0, 0, 2] if you prefer to count the number of occurrences of each word.\n",
    "*   You may want to add hyperparameters to your preparation pipeline to control whether or not to strip off email headers, convert each email to lowercase, remove punctuation, replace all URLs with “URL,” replace all numbers with “NUMBER,” or even perform stemming (i.e., trim off word endings; there are Python libraries available to do this).\n",
    "\n",
    "*   Finally, try out several classifiers and see if you can build a great spam classifier, with both high recall and high precision."
   ]
  },
  {
   "cell_type": "code",
   "execution_count": null,
   "metadata": {
    "id": "cos_X9WTAe3C"
   },
   "outputs": [],
   "source": [
    "#Your answer here"
   ]
  }
 ],
 "metadata": {
  "colab": {
   "authorship_tag": "ABX9TyPpUF8z5r3hsgCR/66u33r3",
   "provenance": [
    {
     "file_id": "1o06OGBH2r_zDM9coua-_44sdQcWLE4cI",
     "timestamp": 1681039791060
    }
   ]
  },
  "kernelspec": {
   "display_name": "Python 3",
   "language": "python",
   "name": "python3"
  },
  "language_info": {
   "codemirror_mode": {
    "name": "ipython",
    "version": 3
   },
   "file_extension": ".py",
   "mimetype": "text/x-python",
   "name": "python",
   "nbconvert_exporter": "python",
   "pygments_lexer": "ipython3",
   "version": "3.10.13"
  }
 },
 "nbformat": 4,
 "nbformat_minor": 1
}
